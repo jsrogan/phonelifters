{
  "nbformat": 4,
  "nbformat_minor": 0,
  "metadata": {
    "colab": {
      "provenance": []
    },
    "kernelspec": {
      "name": "python3",
      "display_name": "Python 3"
    },
    "language_info": {
      "name": "python"
    }
  },
  "cells": [
    {
      "cell_type": "code",
      "execution_count": null,
      "metadata": {
        "colab": {
          "base_uri": "https://localhost:8080/"
        },
        "id": "o-sO-mdWTJ42",
        "outputId": "9445b5bb-c10c-489d-8a81-dcc4b0c3d644"
      },
      "outputs": [
        {
          "output_type": "stream",
          "name": "stdout",
          "text": [
            "Drive already mounted at /content/drive; to attempt to forcibly remount, call drive.mount(\"/content/drive\", force_remount=True).\n"
          ]
        }
      ],
      "source": [
        "import pandas as pd\n",
        "from google.colab import drive\n",
        "drive.mount('/content/drive')"
      ]
    },
    {
      "cell_type": "code",
      "source": [
        "# Read the CSV file into a pandas DataFrame\n",
        "correct_form = pd.read_csv(\"/content/drive/MyDrive/Powerlift Phone/ML Kit Data - Sheet1.csv\")\n",
        "\n",
        "# Extract values from the first column\n",
        "first_column_values = correct_form.iloc[:, 0]\n",
        "\n",
        "# Extract text after the last space for each value\n",
        "processed_values = first_column_values.apply(lambda x: x.split()[-1] if isinstance(x, str) else x)\n",
        "\n",
        "# Update the DataFrame with the processed values\n",
        "correct_form.iloc[:, 0] = processed_values\n",
        "\n",
        "# NOW WITH INCORRECT VALUES\n",
        "# Read the CSV file into a pandas DataFrame\n",
        "incorrect_form = pd.read_csv(\"/content/drive/MyDrive/Powerlift Phone/ML Kit Data - Sheet2.csv\")\n",
        "\n",
        "# Extract values from the first column\n",
        "incorrect_first_column_values = incorrect_form.iloc[:, 0]\n",
        "\n",
        "# Extract text after the last space for each value\n",
        "processed_values = incorrect_first_column_values.apply(lambda x: x.split()[-1] if isinstance(x, str) else x)\n",
        "\n",
        "# Update the DataFrame with the processed values\n",
        "incorrect_form.iloc[:, 0] = processed_values"
      ],
      "metadata": {
        "id": "1vD53MVdTgSw"
      },
      "execution_count": null,
      "outputs": []
    },
    {
      "cell_type": "code",
      "source": [
        "print(\"CORRECT FORM: \")\n",
        "print(correct_form)\n",
        "print(\"------------------------------\")\n",
        "print(\"INCORRECT FORM:\")\n",
        "print(incorrect_form)"
      ],
      "metadata": {
        "id": "gEDq0PJVVMUt",
        "colab": {
          "base_uri": "https://localhost:8080/"
        },
        "outputId": "4a3ebd10-6d41-4ffd-9880-d4fe9950095a"
      },
      "execution_count": null,
      "outputs": [
        {
          "output_type": "stream",
          "name": "stdout",
          "text": [
            "CORRECT FORM: \n",
            "     Unnamed: 0  Unnamed: 1  Unnamed: 2  Unnamed: 3  Unnamed: 4  Unnamed: 5  \\\n",
            "0       628.813 -114.932830  -801.21375   677.38830 -162.767520  -847.98890   \n",
            "1     656.09186  -28.208960  -744.24450   697.78370  -66.806206  -781.80524   \n",
            "2     676.50977  -72.184170  -807.62940   725.82550 -122.222650  -834.91425   \n",
            "3     634.97675  -16.963688  -650.00854   675.44430  -61.463528  -695.31213   \n",
            "4      620.2931    8.236617  -759.06573   641.72797  -34.861050  -785.35030   \n",
            "...         ...         ...         ...         ...         ...         ...   \n",
            "1472  410.17627  233.647430  -506.01870   429.19815  196.178470  -552.02040   \n",
            "1473  406.28674  249.378980  -544.91440   426.41202  210.114650  -587.67320   \n",
            "1474  407.38727  271.065550  -610.98486   429.66580  232.161290  -654.95920   \n",
            "1475  406.09915  286.816930  -506.63245   429.70090  247.695050  -545.76360   \n",
            "1476   408.4959  294.077670  -557.06680   434.60236  255.738830  -589.27295   \n",
            "\n",
            "      Unnamed: 6  Unnamed: 7  Unnamed: 8  Unnamed: 9  ...  Unnamed: 89  \\\n",
            "0      685.33746 -162.044860  -850.25220   724.54930  ...    933.24040   \n",
            "1      704.59845  -67.113180  -781.80524   711.37024  ...    996.71460   \n",
            "2      734.39923 -121.295400  -836.47330   773.84955  ...    968.99940   \n",
            "3      686.85535  -62.173770  -696.49400   699.14300  ...    900.55725   \n",
            "4      676.45470  -30.514975  -786.94324   687.06866  ...    910.40100   \n",
            "...          ...         ...         ...         ...  ...          ...   \n",
            "1472   435.60620  196.050640  -551.50640   442.36932  ...    644.53780   \n",
            "1473   434.61572  210.000690  -587.67320   443.43417  ...    539.17850   \n",
            "1474   438.88950  232.250500  -654.44183   448.60495  ...    476.73373   \n",
            "1475   438.54953  247.424180  -545.24536   447.57162  ...    433.81213   \n",
            "1476   445.86100  256.147980  -589.27295   457.51184  ...    352.75867   \n",
            "\n",
            "      Unnamed: 90  Unnamed: 91  Unnamed: 92  Unnamed: 93  Unnamed: 94  \\\n",
            "0       627.06104    1673.7300    1439.4688    606.57630    1871.7423   \n",
            "1       525.07874    1621.3217    1326.6294    621.70260    1791.7255   \n",
            "2       519.12170    1592.4733    1517.8132    538.44630    1814.2228   \n",
            "3       511.89044    1700.5532    1315.7748    540.40340    1849.5298   \n",
            "4       493.28534    1637.1396    1389.8948    521.93270    1816.7892   \n",
            "...           ...          ...          ...          ...          ...   \n",
            "1472    574.92865    1570.1804    1146.1876    418.10144    1661.7705   \n",
            "1473    571.35660    1558.0492    1168.0461    422.35210    1675.2336   \n",
            "1474    591.85516    1520.4106    1293.3633    430.55707    1706.2004   \n",
            "1475    597.21780    1528.1910    1098.7834    423.91220    1727.4814   \n",
            "1476    594.53090    1547.4690    1026.5730    439.23254    1743.1609   \n",
            "\n",
            "      Unnamed: 95  Unnamed: 96  Unnamed: 97  Unnamed: 98  \n",
            "0       776.31720    483.13623    1722.9794   1282.54540  \n",
            "1       808.52374    386.13962    1674.5566   1150.82970  \n",
            "2       729.67290    372.06995    1687.0032   1331.49720  \n",
            "3       735.10060    376.01093    1747.4269   1144.01500  \n",
            "4       743.53394    352.27360    1687.2805   1247.32100  \n",
            "...           ...          ...          ...          ...  \n",
            "1472    463.87190    426.61290    1563.5417   1075.25760  \n",
            "1473    337.37766    437.37994    1544.6404   1111.72970  \n",
            "1474    242.37630    488.00317    1514.4497   1242.66360  \n",
            "1475    234.39848    487.75020    1511.6649   1066.64920  \n",
            "1476    165.93747    472.35858    1525.8630   1004.43115  \n",
            "\n",
            "[1477 rows x 99 columns]\n",
            "------------------------------\n",
            "INCORRECT FORM:\n",
            "     Unnamed: 0  Unnamed: 1  Unnamed: 2  Unnamed: 3  Unnamed: 4  Unnamed: 5  \\\n",
            "0      593.2407   215.53253  -502.53574   617.10000   177.33968  -450.96622   \n",
            "1      600.9477   223.22030  -505.85510   625.20940   187.64178  -459.15530   \n",
            "2      615.5946   256.02737  -531.97125   641.44550   221.25298  -493.02954   \n",
            "3      604.9854   276.92136  -329.62875   627.49400   241.42384  -294.93954   \n",
            "4     590.29156   295.99658  -307.45627   613.51400   260.27850  -275.90646   \n",
            "...         ...         ...         ...         ...         ...         ...   \n",
            "1462  483.82275   476.86996  -783.85890   497.10580   452.40936  -737.78670   \n",
            "1463  481.00543   498.43262  -673.76710   492.90857   471.16278  -617.82930   \n",
            "1464  503.46255   535.21230  -714.09125   508.23270   507.27400  -656.03015   \n",
            "1465  512.50055   606.08460  -584.61743   517.39197   576.49380  -532.62024   \n",
            "1466   551.4101   643.51390  -587.23206   566.13934   621.76276  -534.66790   \n",
            "\n",
            "      Unnamed: 6  Unnamed: 7  Unnamed: 8  Unnamed: 9  ...  Unnamed: 89  \\\n",
            "0      634.10280   178.44664  -450.96622   651.62490  ...    523.51917   \n",
            "1      643.93134   188.55238  -458.79886   659.93210  ...    619.57450   \n",
            "2      656.29020   221.76094  -493.72495   673.78220  ...    610.55000   \n",
            "3      644.91590   242.71542  -296.07956   659.40830  ...    529.62090   \n",
            "4      628.41156   261.15674  -276.83438   644.53610  ...    487.16666   \n",
            "...          ...         ...         ...         ...  ...          ...   \n",
            "1462   507.12870   454.55700  -739.04890   517.86400  ...   1044.51420   \n",
            "1463   503.70706   471.63750  -618.14355   513.37460  ...   1128.18270   \n",
            "1464   515.98083   507.91610  -655.43160   525.58040  ...    922.39276   \n",
            "1465   526.20953   578.20140  -532.33910   537.49524  ...    941.00920   \n",
            "1466   575.34750   622.02030  -534.66790   583.22406  ...    960.49080   \n",
            "\n",
            "      Unnamed: 90  Unnamed: 91  Unnamed: 92  Unnamed: 93  Unnamed: 94  \\\n",
            "0       508.17587    1696.3318    817.28740    570.31555    1831.1106   \n",
            "1       517.98690    1699.6475    787.83636    581.67520    1846.9375   \n",
            "2       510.04040    1689.7516    910.95730    595.22260    1846.3629   \n",
            "3       525.76720    1713.2440    827.32910    627.00080    1920.1259   \n",
            "4       526.27970    1732.6499    786.89014    616.07090    1887.1503   \n",
            "...           ...          ...          ...          ...          ...   \n",
            "1462    507.11902    1650.4327    498.27426    781.76350    1616.9335   \n",
            "1463    499.87103    1671.6366    462.27210    853.87256    1592.9980   \n",
            "1464    496.74210    1660.4968    567.74140    889.30570    1588.9270   \n",
            "1465    487.74136    1683.0654    634.64720    889.60260    1609.9833   \n",
            "1466    482.81232    1680.1499    720.50080    896.13410    1614.1652   \n",
            "\n",
            "      Unnamed: 95  Unnamed: 96  Unnamed: 97  Unnamed: 98  \n",
            "0       240.42049    427.64746    1795.8198    565.13040  \n",
            "1       350.78326    446.41034    1803.3949    536.86945  \n",
            "2       380.72452    467.44850    1786.8820    670.70100  \n",
            "3       326.69727    447.61124    1809.8433    605.18800  \n",
            "4       280.08215    465.94623    1833.0175    571.60890  \n",
            "...           ...          ...          ...          ...  \n",
            "1462    869.69210    439.80660    1729.1902    209.84950  \n",
            "1463    954.08435    437.69537    1749.5784    172.84137  \n",
            "1464    731.44965    446.67624    1747.3003    282.97287  \n",
            "1465    803.28687    421.74310    1780.4946    391.52505  \n",
            "1466    830.40770    458.69522    1776.8657    486.08585  \n",
            "\n",
            "[1467 rows x 99 columns]\n"
          ]
        }
      ]
    },
    {
      "cell_type": "code",
      "source": [
        "import numpy as np\n",
        "import tensorflow as tf\n",
        "\n",
        "X = np.asarray(pd.concat([correct_form, incorrect_form], axis=0, ignore_index=True).astype(float))\n",
        "\n",
        "Y = np.concatenate([np.ones(len(correct_form)), np.zeros(len(incorrect_form))])"
      ],
      "metadata": {
        "id": "sqSH9o1p0tKB"
      },
      "execution_count": null,
      "outputs": []
    },
    {
      "cell_type": "code",
      "source": [
        "from sklearn.model_selection import train_test_split\n",
        "x_train, x_test, y_train, y_test = train_test_split(X, Y, test_size=0.25, shuffle= True)"
      ],
      "metadata": {
        "id": "qGlPBhLw_J-I"
      },
      "execution_count": null,
      "outputs": []
    },
    {
      "cell_type": "code",
      "source": [
        "from tensorflow.keras import models, layers\n",
        "\n",
        "def build_binary_classification_model(input_size):\n",
        "    model = models.Sequential()\n",
        "    model.add(layers.Dense(64, activation='relu', input_dim=input_size))\n",
        "    model.add(layers.Dense(32, activation='relu'))\n",
        "    model.add(layers.Dense(1, activation='sigmoid'))  # Binary classification requires a sigmoid activation\n",
        "    model.compile(optimizer='adam', loss='binary_crossentropy', metrics=['accuracy'])\n",
        "    return model\n",
        "\n",
        "# Model 1\n",
        "model_1 = build_binary_classification_model(input_size=99)\n",
        "model_1.fit(x_train, y_train, epochs=10, batch_size=32)\n",
        "\n",
        "# Model 2 with a different architecture\n",
        "model_2 = models.Sequential()\n",
        "model_2.add(layers.Dense(128, activation='relu', input_dim=99))\n",
        "#model_2.add(layers.Dense(128, activation='relu'))\n",
        "model_2.add(layers.Dense(64, activation='relu'))\n",
        "model_2.add(layers.Dense(1, activation='sigmoid'))\n",
        "model_2.compile(optimizer='adam', loss='binary_crossentropy', metrics=['accuracy'])\n",
        "model_2.fit(x_train, y_train, epochs=10, batch_size=32)"
      ],
      "metadata": {
        "id": "WvN6gbsNBKPP",
        "colab": {
          "base_uri": "https://localhost:8080/"
        },
        "outputId": "e5566f0b-1f83-4050-bf82-4678ecc7af19"
      },
      "execution_count": null,
      "outputs": [
        {
          "output_type": "stream",
          "name": "stdout",
          "text": [
            "Epoch 1/10\n",
            "69/69 [==============================] - 2s 3ms/step - loss: 13.2961 - accuracy: 0.7523\n",
            "Epoch 2/10\n",
            "69/69 [==============================] - 0s 4ms/step - loss: 2.2759 - accuracy: 0.8451\n",
            "Epoch 3/10\n",
            "69/69 [==============================] - 0s 3ms/step - loss: 1.8256 - accuracy: 0.8483\n",
            "Epoch 4/10\n",
            "69/69 [==============================] - 0s 3ms/step - loss: 1.0111 - accuracy: 0.8909\n",
            "Epoch 5/10\n",
            "69/69 [==============================] - 0s 3ms/step - loss: 1.1599 - accuracy: 0.8845\n",
            "Epoch 6/10\n",
            "69/69 [==============================] - 0s 3ms/step - loss: 0.9123 - accuracy: 0.8999\n",
            "Epoch 7/10\n",
            "69/69 [==============================] - 0s 3ms/step - loss: 0.7070 - accuracy: 0.9135\n",
            "Epoch 8/10\n",
            "69/69 [==============================] - 0s 3ms/step - loss: 0.8556 - accuracy: 0.9049\n",
            "Epoch 9/10\n",
            "69/69 [==============================] - 0s 3ms/step - loss: 0.5142 - accuracy: 0.9271\n",
            "Epoch 10/10\n",
            "69/69 [==============================] - 0s 3ms/step - loss: 0.9514 - accuracy: 0.9049\n",
            "Epoch 1/10\n",
            "69/69 [==============================] - 1s 4ms/step - loss: 19.6938 - accuracy: 0.7994\n",
            "Epoch 2/10\n",
            "69/69 [==============================] - 0s 3ms/step - loss: 5.7497 - accuracy: 0.8628\n",
            "Epoch 3/10\n",
            "69/69 [==============================] - 0s 3ms/step - loss: 3.0135 - accuracy: 0.8899\n",
            "Epoch 4/10\n",
            "69/69 [==============================] - 0s 3ms/step - loss: 2.7482 - accuracy: 0.8918\n",
            "Epoch 5/10\n",
            "69/69 [==============================] - 0s 3ms/step - loss: 1.9095 - accuracy: 0.9203\n",
            "Epoch 6/10\n",
            "69/69 [==============================] - 0s 4ms/step - loss: 2.2308 - accuracy: 0.9099\n",
            "Epoch 7/10\n",
            "69/69 [==============================] - 0s 3ms/step - loss: 3.6753 - accuracy: 0.8922\n",
            "Epoch 8/10\n",
            "69/69 [==============================] - 0s 3ms/step - loss: 1.3420 - accuracy: 0.9235\n",
            "Epoch 9/10\n",
            "69/69 [==============================] - 0s 3ms/step - loss: 2.0194 - accuracy: 0.9180\n",
            "Epoch 10/10\n",
            "69/69 [==============================] - 0s 3ms/step - loss: 0.5399 - accuracy: 0.9565\n"
          ]
        },
        {
          "output_type": "execute_result",
          "data": {
            "text/plain": [
              "<keras.src.callbacks.History at 0x7c31ac1c6bf0>"
            ]
          },
          "metadata": {},
          "execution_count": 5
        }
      ]
    },
    {
      "cell_type": "code",
      "source": [
        "loss_1, accuracy_1 = model_1.evaluate(x_test, y_test)\n",
        "print(f'Model 1 - Test Accuracy: {accuracy_1 * 100:.2f}%')\n",
        "\n",
        "loss_2, accuracy_2 = model_2.evaluate(x_test, y_test)\n",
        "print(f'Model 2 - Test Accuracy: {accuracy_2 * 100:.2f}%')\n"
      ],
      "metadata": {
        "colab": {
          "base_uri": "https://localhost:8080/"
        },
        "id": "lQ-Q3CdtEv8R",
        "outputId": "c6990258-2334-46b9-c78e-51e9358a90a3"
      },
      "execution_count": null,
      "outputs": [
        {
          "output_type": "stream",
          "name": "stdout",
          "text": [
            "23/23 [==============================] - 0s 2ms/step - loss: 0.5444 - accuracy: 0.9008\n",
            "Model 1 - Test Accuracy: 90.08%\n",
            "23/23 [==============================] - 0s 2ms/step - loss: 0.6604 - accuracy: 0.9565\n",
            "Model 2 - Test Accuracy: 95.65%\n"
          ]
        }
      ]
    },
    {
      "cell_type": "code",
      "source": [
        "converter_1 = tf.lite.TFLiteConverter.from_keras_model(model_1)\n",
        "tflite_model_1 = converter_1.convert()\n",
        "with open('mlkit_model_1.tflite', 'wb') as f:\n",
        "    f.write(tflite_model_1)\n",
        "\n",
        "# Convert and save model 2\n",
        "converter_2 = tf.lite.TFLiteConverter.from_keras_model(model_2)\n",
        "tflite_model_2 = converter_2.convert()\n",
        "with open('mlkit_model_2.tflite', 'wb') as f:\n",
        "    f.write(tflite_model_2)"
      ],
      "metadata": {
        "id": "XVngZXwXFuXa"
      },
      "execution_count": null,
      "outputs": []
    },
    {
      "cell_type": "code",
      "source": [
        "\n"
      ],
      "metadata": {
        "colab": {
          "base_uri": "https://localhost:8080/"
        },
        "id": "VBCeeYn3Q4PP",
        "outputId": "8d1be6dc-f9ad-4303-d841-43422ce282db"
      },
      "execution_count": null,
      "outputs": [
        {
          "output_type": "stream",
          "name": "stdout",
          "text": [
            "[   0.         0.       360.4414   137.40208    0.         0.\n",
            "  480.23563  152.89265    0.         0.       604.53687  470.27496\n",
            "  335.33374  488.8492   653.7289   837.8279     0.         0.\n",
            "  589.8475  1138.1897     0.         0.       554.59985 1127.2255\n",
            "  400.2505  1115.6862   582.7978  1453.4626     0.         0.\n",
            "    0.         0.       466.42474 1585.9644 ]\n"
          ]
        }
      ]
    },
    {
      "cell_type": "code",
      "source": [],
      "metadata": {
        "id": "f4qAYRoPz-LP"
      },
      "execution_count": null,
      "outputs": []
    }
  ]
}